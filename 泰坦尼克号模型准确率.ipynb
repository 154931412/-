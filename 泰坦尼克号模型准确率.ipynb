{
 "cells": [
  {
   "cell_type": "code",
   "execution_count": null,
   "id": "db1dc0bf",
   "metadata": {},
   "outputs": [],
   "source": []
  },
  {
   "cell_type": "code",
   "execution_count": null,
   "id": "25d9c365",
   "metadata": {},
   "outputs": [],
   "source": [
    "import pandas as pd\n",
    "from sklearn.preprocessing import LabelEncoder, OrdinalEncoder, StandardScaler\n",
    "from sklearn.model_selection import train_test_split, cross_val_score\n",
    "from sklearn.linear_model import LinearRegression, LogisticRegression\n",
    "from sklearn.utils import resample\n",
    "from sklearn.metrics import recall_score, precision_score, f1_score, accuracy_score, roc_auc_score, log_loss\n",
    "from sklearn.tree import DecisionTreeClassifier\n",
    "from sklearn.neural_network import MLPClassifier\n",
    "from sklearn import neighbors\n",
    "from sklearn.ensemble import RandomForestClassifier, BaggingClassifier, AdaBoostClassifier\n",
    "from sklearn.svm import SVC\n",
    "from mlxtend.classifier import StackingClassifier\n",
    "\n",
    "# 读取数据\n",
    "titanic = pd.read_csv(\"./data/train.csv\")\n",
    "\n"
   ]
  },
  {
   "cell_type": "code",
   "execution_count": 6,
   "id": "cbcd1597",
   "metadata": {},
   "outputs": [
    {
     "name": "stdout",
     "output_type": "stream",
     "text": [
      "Index(['PassengerId', 'Survived', 'Pclass', 'Name', 'Sex', 'Age', 'SibSp',\n",
      "       'Parch', 'Ticket', 'Fare', 'Cabin', 'Embarked'],\n",
      "      dtype='object')\n",
      "    PassengerId  Survived  Pclass  \\\n",
      "0             1         0       3   \n",
      "1             2         1       1   \n",
      "2             3         1       3   \n",
      "3             4         1       1   \n",
      "4             5         0       3   \n",
      "5             6         0       3   \n",
      "6             7         0       1   \n",
      "7             8         0       3   \n",
      "8             9         1       3   \n",
      "9            10         1       2   \n",
      "10           11         1       3   \n",
      "11           12         1       1   \n",
      "12           13         0       3   \n",
      "13           14         0       3   \n",
      "14           15         0       3   \n",
      "15           16         1       2   \n",
      "16           17         0       3   \n",
      "17           18         1       2   \n",
      "18           19         0       3   \n",
      "19           20         1       3   \n",
      "\n",
      "                                                 Name     Sex   Age  SibSp  \\\n",
      "0                             Braund, Mr. Owen Harris    male  22.0      1   \n",
      "1   Cumings, Mrs. John Bradley (Florence Briggs Th...  female  38.0      1   \n",
      "2                              Heikkinen, Miss. Laina  female  26.0      0   \n",
      "3        Futrelle, Mrs. Jacques Heath (Lily May Peel)  female  35.0      1   \n",
      "4                            Allen, Mr. William Henry    male  35.0      0   \n",
      "5                                    Moran, Mr. James    male   NaN      0   \n",
      "6                             McCarthy, Mr. Timothy J    male  54.0      0   \n",
      "7                      Palsson, Master. Gosta Leonard    male   2.0      3   \n",
      "8   Johnson, Mrs. Oscar W (Elisabeth Vilhelmina Berg)  female  27.0      0   \n",
      "9                 Nasser, Mrs. Nicholas (Adele Achem)  female  14.0      1   \n",
      "10                    Sandstrom, Miss. Marguerite Rut  female   4.0      1   \n",
      "11                           Bonnell, Miss. Elizabeth  female  58.0      0   \n",
      "12                     Saundercock, Mr. William Henry    male  20.0      0   \n",
      "13                        Andersson, Mr. Anders Johan    male  39.0      1   \n",
      "14               Vestrom, Miss. Hulda Amanda Adolfina  female  14.0      0   \n",
      "15                   Hewlett, Mrs. (Mary D Kingcome)   female  55.0      0   \n",
      "16                               Rice, Master. Eugene    male   2.0      4   \n",
      "17                       Williams, Mr. Charles Eugene    male   NaN      0   \n",
      "18  Vander Planke, Mrs. Julius (Emelia Maria Vande...  female  31.0      1   \n",
      "19                            Masselmani, Mrs. Fatima  female   NaN      0   \n",
      "\n",
      "    Parch            Ticket     Fare Cabin Embarked  \n",
      "0       0         A/5 21171   7.2500   NaN        S  \n",
      "1       0          PC 17599  71.2833   C85        C  \n",
      "2       0  STON/O2. 3101282   7.9250   NaN        S  \n",
      "3       0            113803  53.1000  C123        S  \n",
      "4       0            373450   8.0500   NaN        S  \n",
      "5       0            330877   8.4583   NaN        Q  \n",
      "6       0             17463  51.8625   E46        S  \n",
      "7       1            349909  21.0750   NaN        S  \n",
      "8       2            347742  11.1333   NaN        S  \n",
      "9       0            237736  30.0708   NaN        C  \n",
      "10      1           PP 9549  16.7000    G6        S  \n",
      "11      0            113783  26.5500  C103        S  \n",
      "12      0         A/5. 2151   8.0500   NaN        S  \n",
      "13      5            347082  31.2750   NaN        S  \n",
      "14      0            350406   7.8542   NaN        S  \n",
      "15      0            248706  16.0000   NaN        S  \n",
      "16      1            382652  29.1250   NaN        Q  \n",
      "17      0            244373  13.0000   NaN        S  \n",
      "18      0            345763  18.0000   NaN        S  \n",
      "19      0              2649   7.2250   NaN        C  \n",
      "数据总行数: 891\n"
     ]
    }
   ],
   "source": [
    "print(titanic.columns)\n",
    "print(titanic.head(20))\n",
    "print(f\"数据总行数: {len(titanic)}\")"
   ]
  },
  {
   "cell_type": "code",
   "execution_count": 8,
   "id": "f3f51ea8",
   "metadata": {},
   "outputs": [
    {
     "name": "stdout",
     "output_type": "stream",
     "text": [
      "Index(['PassengerId', 'Pclass', 'Name', 'Sex', 'Age', 'SibSp', 'Parch',\n",
      "       'Ticket', 'Fare', 'Cabin', 'Embarked'],\n",
      "      dtype='object')\n",
      "    PassengerId  Pclass                                               Name  \\\n",
      "0           892       3                                   Kelly, Mr. James   \n",
      "1           893       3                   Wilkes, Mrs. James (Ellen Needs)   \n",
      "2           894       2                          Myles, Mr. Thomas Francis   \n",
      "3           895       3                                   Wirz, Mr. Albert   \n",
      "4           896       3       Hirvonen, Mrs. Alexander (Helga E Lindqvist)   \n",
      "5           897       3                         Svensson, Mr. Johan Cervin   \n",
      "6           898       3                               Connolly, Miss. Kate   \n",
      "7           899       2                       Caldwell, Mr. Albert Francis   \n",
      "8           900       3          Abrahim, Mrs. Joseph (Sophie Halaut Easu)   \n",
      "9           901       3                            Davies, Mr. John Samuel   \n",
      "10          902       3                                   Ilieff, Mr. Ylio   \n",
      "11          903       1                         Jones, Mr. Charles Cresson   \n",
      "12          904       1      Snyder, Mrs. John Pillsbury (Nelle Stevenson)   \n",
      "13          905       2                               Howard, Mr. Benjamin   \n",
      "14          906       1  Chaffee, Mrs. Herbert Fuller (Carrie Constance...   \n",
      "15          907       2      del Carlo, Mrs. Sebastiano (Argenia Genovesi)   \n",
      "16          908       2                                  Keane, Mr. Daniel   \n",
      "17          909       3                                  Assaf, Mr. Gerios   \n",
      "18          910       3                       Ilmakangas, Miss. Ida Livija   \n",
      "19          911       3              Assaf Khalil, Mrs. Mariana (Miriam\")\"   \n",
      "\n",
      "       Sex   Age  SibSp  Parch            Ticket     Fare Cabin Embarked  \n",
      "0     male  34.5      0      0            330911   7.8292   NaN        Q  \n",
      "1   female  47.0      1      0            363272   7.0000   NaN        S  \n",
      "2     male  62.0      0      0            240276   9.6875   NaN        Q  \n",
      "3     male  27.0      0      0            315154   8.6625   NaN        S  \n",
      "4   female  22.0      1      1           3101298  12.2875   NaN        S  \n",
      "5     male  14.0      0      0              7538   9.2250   NaN        S  \n",
      "6   female  30.0      0      0            330972   7.6292   NaN        Q  \n",
      "7     male  26.0      1      1            248738  29.0000   NaN        S  \n",
      "8   female  18.0      0      0              2657   7.2292   NaN        C  \n",
      "9     male  21.0      2      0         A/4 48871  24.1500   NaN        S  \n",
      "10    male   NaN      0      0            349220   7.8958   NaN        S  \n",
      "11    male  46.0      0      0               694  26.0000   NaN        S  \n",
      "12  female  23.0      1      0             21228  82.2667   B45        S  \n",
      "13    male  63.0      1      0             24065  26.0000   NaN        S  \n",
      "14  female  47.0      1      0       W.E.P. 5734  61.1750   E31        S  \n",
      "15  female  24.0      1      0     SC/PARIS 2167  27.7208   NaN        C  \n",
      "16    male  35.0      0      0            233734  12.3500   NaN        Q  \n",
      "17    male  21.0      0      0              2692   7.2250   NaN        C  \n",
      "18  female  27.0      1      0  STON/O2. 3101270   7.9250   NaN        S  \n",
      "19  female  45.0      0      0              2696   7.2250   NaN        C  \n",
      "数据总行数: 418\n"
     ]
    }
   ],
   "source": [
    "titanic_t = pd.read_csv(\"./data/test.csv\")\n",
    "print(titanic_t.columns)\n",
    "print(titanic_t.head(20))\n",
    "print(f\"数据总行数: {len(titanic_t)}\")"
   ]
  },
  {
   "cell_type": "code",
   "execution_count": 2,
   "id": "06bc95dd",
   "metadata": {},
   "outputs": [],
   "source": [
    "# 缺失值处理\n",
    "titanic[\"Age\"] = titanic[\"Age\"].fillna(titanic[\"Age\"].median())\n",
    "titanic[\"Cabin\"] = titanic[\"Cabin\"].fillna(\"U\")\n",
    "titanic[\"Embarked\"] = titanic[\"Embarked\"].fillna(\"S\")\n",
    "titanic[\"Deck\"] = titanic[\"Cabin\"].apply(lambda x: x[0])  # 提取 Deck\n",
    "\n",
    "# 编码\n",
    "ordinal_encoder = OrdinalEncoder()\n",
    "label_encoder = LabelEncoder()\n",
    "titanic[\"PassengerId\"] = label_encoder.fit_transform(titanic[\"PassengerId\"])\n",
    "titanic[\"Ticket\"] = ordinal_encoder.fit_transform(titanic[[\"Ticket\"]])\n",
    "titanic[\"Sex\"] = titanic[\"Sex\"].map({\"male\": 0, \"female\": 1})\n",
    "titanic[\"Embarked\"] = titanic[\"Embarked\"].map({\"S\": 0, \"C\": 1, \"Q\": 2})\n",
    "titanic[\"Deck\"] = titanic[\"Deck\"].map({\n",
    "    \"A\": 0, \"B\": 0.4, \"C\": 0.8, \"D\": 1.2, \"E\": 1.6,\n",
    "    \"F\": 2.0, \"G\": 2.4, \"T\": 2.8, \"U\": 1.5\n",
    "})\n",
    "\n",
    "# 删除无关字段\n",
    "titanic = titanic.drop([\"Cabin\", \"Name\"], axis=1)\n"
   ]
  },
  {
   "cell_type": "code",
   "execution_count": 3,
   "id": "2690db10",
   "metadata": {},
   "outputs": [],
   "source": [
    "# 特征与目标\n",
    "predictors = [\"Pclass\", \"Sex\", \"Age\", \"SibSp\", \"Parch\", \"Fare\", \"Embarked\", \"Deck\", \"Ticket\"]\n",
    "x_data = titanic[predictors].astype(\"float64\")\n",
    "y_data = titanic[\"Survived\"]\n",
    "\n",
    "# 标准化\n",
    "x_data = StandardScaler().fit_transform(x_data)\n"
   ]
  },
  {
   "cell_type": "code",
   "execution_count": 4,
   "id": "cae6af16",
   "metadata": {},
   "outputs": [
    {
     "name": "stdout",
     "output_type": "stream",
     "text": [
      "—————— 单模型部分 ——————\n",
      "线性回归交叉验证得分：0.3728\n",
      "逻辑回归模型评估：\n",
      "召回率： 0.75\n",
      "精确率： 0.7425742574257426\n",
      "F1 得分： 0.746268656716418\n",
      "准确率： 0.8097014925373134\n",
      "ROC AUC 得分： 0.7976190476190477\n",
      "对数损失： 6.859053443451399\n"
     ]
    }
   ],
   "source": [
    "print(\"—————— 单模型部分 ——————\")\n",
    "\n",
    "# 线性回归\n",
    "lin_reg = LinearRegression()\n",
    "scores = cross_val_score(lin_reg, x_data, y_data, cv=7)\n",
    "print(f\"线性回归交叉验证得分：{scores.mean():.4f}\")\n",
    "\n",
    "# 逻辑回归\n",
    "x_train, x_test, y_train, y_test = train_test_split(x_data, y_data, test_size=0.3, random_state=0)\n",
    "clf = LogisticRegression(max_iter=200)\n",
    "clf.fit(x_train, y_train)\n",
    "y_pred = clf.predict(x_test)\n",
    "print(\"逻辑回归模型评估：\")\n",
    "print(\"召回率：\", recall_score(y_test, y_pred))\n",
    "print(\"精确率：\", precision_score(y_test, y_pred))\n",
    "print(\"F1 得分：\", f1_score(y_test, y_pred))\n",
    "print(\"准确率：\", accuracy_score(y_test, y_pred))\n",
    "print(\"ROC AUC 得分：\", roc_auc_score(y_test, y_pred))\n",
    "print(\"对数损失：\", log_loss(y_test, y_pred))\n"
   ]
  },
  {
   "cell_type": "code",
   "execution_count": 5,
   "id": "7148dacb",
   "metadata": {},
   "outputs": [
    {
     "name": "stdout",
     "output_type": "stream",
     "text": [
      "自助法的逻辑回归模型的精确度: 0.7879\n"
     ]
    }
   ],
   "source": [
    "# 自助法验证逻辑回归\n",
    "x_boot, y_boot = resample(x_data, y_data, replace=True, n_samples=100)\n",
    "LR = LogisticRegression()\n",
    "LR.fit(x_boot, y_boot)\n",
    "print(f\"自助法的逻辑回归模型的精确度: {LR.score(x_data, y_data):.4f}\")\n"
   ]
  },
  {
   "cell_type": "code",
   "execution_count": 6,
   "id": "86483c60",
   "metadata": {},
   "outputs": [
    {
     "name": "stdout",
     "output_type": "stream",
     "text": [
      "决策树模型精确度: 0.7958\n"
     ]
    },
    {
     "name": "stderr",
     "output_type": "stream",
     "text": [
      "c:\\Anaconda\\envs\\bigdata\\lib\\site-packages\\sklearn\\neural_network\\_multilayer_perceptron.py:691: ConvergenceWarning: Stochastic Optimizer: Maximum iterations (2000) reached and the optimization hasn't converged yet.\n",
      "  warnings.warn(\n"
     ]
    },
    {
     "name": "stdout",
     "output_type": "stream",
     "text": [
      "神经网络模型精确度: 0.7744\n",
      "KNN 模型精确度: 0.7980\n",
      "随机森林模型精确度: 0.8260\n"
     ]
    }
   ],
   "source": [
    "# 决策树\n",
    "dt = DecisionTreeClassifier()\n",
    "scores = cross_val_score(dt, x_data, y_data, cv=5)\n",
    "print(f\"决策树模型精确度: {scores.mean():.4f}\")\n",
    "\n",
    "# 神经网络\n",
    "mlp = MLPClassifier(hidden_layer_sizes=(20, 10), max_iter=2000)\n",
    "scores = cross_val_score(mlp, x_data, y_data, cv=3)\n",
    "print(f\"神经网络模型精确度: {scores.mean():.4f}\")\n",
    "\n",
    "# KNN\n",
    "knn = neighbors.KNeighborsClassifier(21)\n",
    "scores = cross_val_score(knn, x_data, y_data, cv=5)\n",
    "print(f\"KNN 模型精确度: {scores.mean():.4f}\")\n",
    "\n",
    "# 随机森林\n",
    "RF1 = RandomForestClassifier(random_state=1, n_estimators=100)\n",
    "scores = cross_val_score(RF1, x_data, y_data, cv=3)\n",
    "print(f\"随机森林模型精确度: {scores.mean():.4f}\")\n"
   ]
  },
  {
   "cell_type": "code",
   "execution_count": 7,
   "id": "8f4f649c",
   "metadata": {},
   "outputs": [
    {
     "name": "stdout",
     "output_type": "stream",
     "text": [
      "线性核 SVM 模型精确度: 0.7879\n",
      "多项式核 SVM 模型精确度: 0.8103\n",
      "RBF 核 SVM 模型精确度: 0.8193\n",
      "Sigmoid 核 SVM 模型精确度: 0.7093\n"
     ]
    }
   ],
   "source": [
    "# SVM 核函数对比\n",
    "svms = {\n",
    "    \"线性核\": SVC(kernel='linear', C=1, gamma='auto'),\n",
    "    \"多项式核\": SVC(kernel='poly', degree=3, C=1, gamma='auto'),\n",
    "    \"RBF 核\": SVC(kernel='rbf', C=1, gamma='auto'),\n",
    "    \"Sigmoid 核\": SVC(kernel='sigmoid', C=1, gamma='auto')\n",
    "}\n",
    "for name, model in svms.items():\n",
    "    score = cross_val_score(model, x_data, y_data, cv=5).mean()\n",
    "    print(f\"{name} SVM 模型精确度: {score:.4f}\")\n"
   ]
  },
  {
   "cell_type": "code",
   "execution_count": 46,
   "id": "b2e87240",
   "metadata": {},
   "outputs": [
    {
     "name": "stdout",
     "output_type": "stream",
     "text": [
      "\n",
      "—————— 集成模型部分 ——————\n",
      "Bagging 模型（随机森林）精确度: 0.8204\n",
      "Bagging 模型（KNN）精确度: 0.8047\n",
      "AdaBoost 模型（决策树）精确度: 0.7992\n"
     ]
    }
   ],
   "source": [
    "print(\"\\n—————— 集成模型部分 ——————\")\n",
    "\n",
    "# Bagging (RandomForest)\n",
    "bagging_clf_rf = BaggingClassifier(RF1, n_estimators=20)\n",
    "scores = cross_val_score(bagging_clf_rf, x_data, y_data, cv=3)\n",
    "print(f\"Bagging 模型（随机森林）精确度: {scores.mean():.4f}\")\n",
    "\n",
    "# Bagging (KNN)\n",
    "bagging_clf_knn = BaggingClassifier(knn, n_estimators=10)\n",
    "scores = cross_val_score(bagging_clf_knn, x_data, y_data, cv=3)\n",
    "print(f\"Bagging 模型（KNN）精确度: {scores.mean():.4f}\")\n",
    "\n",
    "# AdaBoost (决策树)\n",
    "dt_stump = DecisionTreeClassifier(max_depth=1)\n",
    "adaboost_dt = AdaBoostClassifier(estimator=dt_stump, n_estimators=10)\n",
    "\n",
    "scores = cross_val_score(adaboost_dt, x_data, y_data, cv=5)\n",
    "print(f\"AdaBoost 模型（决策树）精确度: {scores.mean():.4f}\")\n"
   ]
  },
  {
   "cell_type": "code",
   "execution_count": 9,
   "id": "1e28cb0a",
   "metadata": {},
   "outputs": [
    {
     "name": "stdout",
     "output_type": "stream",
     "text": [
      "Stacking 模型精确度: 0.8171\n"
     ]
    }
   ],
   "source": [
    "# Stacking\n",
    "bagging_rf = BaggingClassifier(RF1, n_estimators=20)\n",
    "adaboost_bagging = AdaBoostClassifier(estimator=bagging_rf, n_estimators=10)\n",
    "rbf_svm = SVC(kernel='rbf', C=1, gamma='auto', probability=True)\n",
    "lr_base = LogisticRegression()\n",
    "\n",
    "sclf = StackingClassifier(\n",
    "    classifiers=[bagging_rf, adaboost_bagging, rbf_svm, lr_base],\n",
    "    meta_classifier=LogisticRegression(),\n",
    "    use_probas=True,\n",
    "    average_probas=False\n",
    ")\n",
    "\n",
    "scores = cross_val_score(sclf, x_data, y_data, cv=3)\n",
    "print(f\"Stacking 模型精确度: {scores.mean():.4f}\")\n"
   ]
  },
  {
   "cell_type": "code",
   "execution_count": 59,
   "id": "184d6ed4",
   "metadata": {},
   "outputs": [
    {
     "name": "stdout",
     "output_type": "stream",
     "text": [
      "线性回归交叉验证得分：0.7992\n",
      "逻辑回归模型评估：\n",
      "召回率： 0.75\n",
      "精确率： 0.7425742574257426\n",
      "F1 得分： 0.746268656716418\n",
      "准确率： 0.8097014925373134\n",
      "ROC AUC 得分： 0.7976190476190477\n",
      "对数损失： 6.859053443451399\n",
      "自助法的逻辑回归模型的精确度: 0.7879\n",
      "决策树模型精确度: 0.7992\n",
      "神经网络模型精确度: 0.7992\n",
      "KNN 模型精确度: 0.7992\n",
      "随机森林模型精确度: 0.7992\n",
      "线性核 SVM 模型精确度: 0.7879\n",
      "多项式核 SVM 模型精确度: 0.8103\n",
      "RBF 核 SVM 模型精确度: 0.8193\n",
      "Sigmoid 核 SVM 模型精确度: 0.7093\n",
      "\n",
      "—————— 集成模型部分 ——————\n",
      "Bagging 模型（随机森林）精确度: 0.8272\n",
      "Bagging 模型（KNN）精确度: 0.8013\n",
      "AdaBoost 模型（决策树）精确度: 0.7992\n",
      "Stacking 模型精确度: 0.7992\n"
     ]
    }
   ],
   "source": [
    "print(f\"线性回归交叉验证得分：{scores.mean():.4f}\")\n",
    "print(\"逻辑回归模型评估：\")\n",
    "print(\"召回率：\", recall_score(y_test, y_pred))\n",
    "print(\"精确率：\", precision_score(y_test, y_pred))\n",
    "print(\"F1 得分：\", f1_score(y_test, y_pred))\n",
    "print(\"准确率：\", accuracy_score(y_test, y_pred))\n",
    "print(\"ROC AUC 得分：\", roc_auc_score(y_test, y_pred))\n",
    "print(\"对数损失：\", log_loss(y_test, y_pred))\n",
    "print(f\"自助法的逻辑回归模型的精确度: {LR.score(x_data, y_data):.4f}\")\n",
    "print(f\"决策树模型精确度: {scores.mean():.4f}\")\n",
    "print(f\"神经网络模型精确度: {scores.mean():.4f}\")\n",
    "print(f\"KNN 模型精确度: {scores.mean():.4f}\")\n",
    "print(f\"随机森林模型精确度: {scores.mean():.4f}\")\n",
    "for name, model in svms.items():\n",
    "    score = cross_val_score(model, x_data, y_data, cv=5).mean()\n",
    "    print(f\"{name} SVM 模型精确度: {score:.4f}\")\n",
    "print(\"\\n—————— 集成模型部分 ——————\")\n",
    "\n",
    "# Bagging (RandomForest)\n",
    "bagging_clf_rf = BaggingClassifier(RF1, n_estimators=20)\n",
    "scores = cross_val_score(bagging_clf_rf, x_data, y_data, cv=3)\n",
    "print(f\"Bagging 模型（随机森林）精确度: {scores.mean():.4f}\")\n",
    "\n",
    "# Bagging (KNN)\n",
    "bagging_clf_knn = BaggingClassifier(knn, n_estimators=10)\n",
    "scores = cross_val_score(bagging_clf_knn, x_data, y_data, cv=3)\n",
    "print(f\"Bagging 模型（KNN）精确度: {scores.mean():.4f}\")\n",
    "\n",
    "# AdaBoost (决策树)\n",
    "dt_stump = DecisionTreeClassifier(max_depth=1)\n",
    "adaboost_dt = AdaBoostClassifier(estimator=dt_stump, n_estimators=10)\n",
    "\n",
    "scores = cross_val_score(adaboost_dt, x_data, y_data, cv=5)\n",
    "print(f\"AdaBoost 模型（决策树）精确度: {scores.mean():.4f}\")\n",
    "\n",
    "\n",
    "print(f\"Stacking 模型精确度: {scores.mean():.4f}\")"
   ]
  },
  {
   "cell_type": "code",
   "execution_count": 60,
   "id": "be39d26b",
   "metadata": {},
   "outputs": [
    {
     "name": "stdout",
     "output_type": "stream",
     "text": [
      "     PassengerId  Survived\n",
      "0            892         0\n",
      "1            893         0\n",
      "2            894         0\n",
      "3            895         0\n",
      "4            896         0\n",
      "..           ...       ...\n",
      "413         1305         0\n",
      "414         1306         1\n",
      "415         1307         0\n",
      "416         1308         0\n",
      "417         1309         0\n",
      "\n",
      "[418 rows x 2 columns]\n"
     ]
    }
   ],
   "source": [
    "import pandas as pd\n",
    "\n",
    "# 读取 CSV 文件\n",
    "file_path = \"./data/titanic_submission_optimized.csv\"\n",
    "data = pd.read_csv(file_path)\n",
    "\n",
    "# 打印内容\n",
    "print(data)"
   ]
  }
 ],
 "metadata": {
  "kernelspec": {
   "display_name": "bigdata",
   "language": "python",
   "name": "python3"
  },
  "language_info": {
   "codemirror_mode": {
    "name": "ipython",
    "version": 3
   },
   "file_extension": ".py",
   "mimetype": "text/x-python",
   "name": "python",
   "nbconvert_exporter": "python",
   "pygments_lexer": "ipython3",
   "version": "3.9.17"
  }
 },
 "nbformat": 4,
 "nbformat_minor": 5
}
